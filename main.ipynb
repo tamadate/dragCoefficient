{
 "cells": [
  {
   "cell_type": "code",
   "execution_count": 2,
   "metadata": {},
   "outputs": [],
   "source": [
    "import numpy as np\n",
    "import scipy.special\n",
    "import matplotlib.pyplot as plt\n",
    "\n",
    "plt.rcParams['ytick.direction'] = 'in'\n",
    "plt.rcParams['xtick.direction'] = 'in'\n",
    "plt.rcParams['figure.subplot.bottom'] = 0.2\n",
    "plt.rcParams['figure.subplot.left'] = 0.2\n",
    "\n",
    "def axNormal(ax):\n",
    "    ax.xaxis.set_ticks_position('both')\n",
    "    ax.yaxis.set_ticks_position('both')\n",
    "    ax.tick_params(axis='x')\n",
    "    ax.tick_params(axis='y')\n",
    "\n",
    "gamma = 1.4\n",
    "R = 8.314462\n",
    "MW_g = (28 * 0.8 + 32 * 0.2) * 1e-3  # Molecular weight\n"
   ]
  },
  {
   "attachments": {},
   "cell_type": "markdown",
   "metadata": {},
   "source": [
    "## General drag coefficient (Singh, 2020)\n",
    "Inputs for this function are: **Mach number**, **Reynolds number**, **Fluid temperature**  \n",
    "Return is **Drag coefficient**  \n",
    "  \n",
    "*Notes*  \n",
    "* Particle temperature is identical to fluid temperature  \n",
    "* Fluid is only air  \n",
    "\n",
    "### Equaiton\n",
    "\n",
    "$$\n",
    "\\begin{gather*}\n",
    "C_{\\rm{D}} = C_{\\rm{d,C}} \\frac{f_{Kn}}{1+Br^{\\eta}} + C_{\\rm{d,FM}} \\frac{Br^{\\eta}}{1+Br^{\\eta}}\\\\\n",
    "\n",
    "C_{\\rm{d,C}}=C_1(1-\\alpha U^*)+C_0 {C_2}^2 \\Theta\\\\\n",
    "C_1=\\frac{\n",
    "        0.9-C_0\\left[ 1+\\frac{\\gamma^2}{4\\gamma} \\right]^\\frac{\\gamma}{\\gamma-1}\n",
    "    }{1-\\frac{\\gamma-1}{\\alpha _0 M (\\gamma +1)}}\\\\\n",
    "\\alpha=\\frac{1}{\\alpha _0 M + 1 + \\alpha _0}\\\\\n",
    "\n",
    "C_0=\\frac{24}{{\\delta _0}^2}\\\\\n",
    "C_2=1+\\frac{\\delta _0}{Re^*}\\\\\n",
    "Re^*=Re \\left[ \\frac{1}{\\alpha^2 T^*} \\right]^{\\omega} \\Theta^{\\frac{\\gamma+1}{2\\gamma}-\\frac{\\omega(\\gamma-1)}{\\gamma}}\\\\\n",
    "\\Theta=\\left[ 1+\\frac{(\\gamma-1){M_{\\rm{s}}}^2}{2} \\right]^{\\frac{\\gamma}{\\gamma-1}}\\\\\n",
    "U^*=\\frac{U_{\\rm{s}}}{U}=\\frac{s_1}{(\\gamma+1)M^2}\\\\\n",
    "T^*=\\frac{T_{\\rm{s}}}{T}=\\frac{s_1 s_2}{(\\gamma+1)^2 M^2}\\\\\n",
    "M_{\\rm{s}}=\\sqrt{\\frac{s_1}{s_2}}\\\\\n",
    "s_1=2+(\\gamma-1)M^2\\\\\n",
    "s_2=2 \\gamma M^2 - (\\gamma-1)\\\\\n",
    "\n",
    "f_{Kn}=\\frac{1}{\n",
    "    Cc\\left[\n",
    "        1+\\alpha _{hoc} Wr \\left(\n",
    "            1+\\frac{1}{T^{*}}\n",
    "            \\right)^{\\omega}\n",
    "        \\right]\n",
    "    }\\\\\n",
    "Wr=\\frac{M^{2\\omega}}{Re}\\\\\n",
    "Cc=1+Kn\\left[2.514+0.8\\exp{\\frac{-0.55}{Kn}}\\right]\\\\\n",
    "Kn=\\frac{M}{Re}\\sqrt{\\frac{\\gamma \\pi}{2}}\\\\\n",
    "Br=Wr\\left(1+\\frac{1}{T^{*}}\\right)^{\\omega}\n",
    "    \\frac{M^{2\\omega -1}+1}{M^{2\\omega -1}}\\\\\n",
    "\n",
    "C_{\\rm{d,FM}}=\\frac{\\pi (1 + 2s^2)\\exp(-s^2)}{s^3}\n",
    "+\\frac{(4s^4+4s^2-1){\\rm{erf}}(s)}{2s^4}\n",
    "+\\frac{2\\sqrt{\\pi}}{3s}\\\\\n",
    "s=M\\sqrt{\\frac{\\gamma}{2}}\\\\\n",
    "\\end{gather*}\n",
    "$$\n",
    "\n",
    "## Constant(?)\n",
    "$\\alpha _0=0.3555$, $\\alpha _{hoc}=0.9071$, $\\delta _0=9.4$, $\\eta = 1.8$, and $\\omega=0.74$"
   ]
  },
  {
   "cell_type": "code",
   "execution_count": 3,
   "metadata": {},
   "outputs": [],
   "source": [
    "def SinghDrag(Mach, Re_d, T_g):\n",
    "    T_d = T_g\n",
    "    delta_o = 9.4\n",
    "    Co = 24.0 / delta_o**2\n",
    "    alpha_o = 0.3555\n",
    "    alpha_hoc = 0.9071\n",
    "    omega = 0.74 # FOR AIR - CHECK THIS\n",
    "\n",
    "    # Subsonic case\n",
    "    if (Mach <= 1):\n",
    "        Ts_T = 1\n",
    "        Us_U = 1\n",
    "        Ms = Mach\n",
    "        alpha = 1\n",
    "        C1 = 1\n",
    "\n",
    "    # Supersonic case\n",
    "    gm1 = gamma - 1.0\n",
    "    gp1 = gamma + 1.0\n",
    "    if (Mach >= 1):\n",
    "        M2 = Mach * Mach\n",
    "        s_C1 = 2.0 + gm1 * M2\n",
    "        s_C2 = 2 * gamma * M2 - gm1\n",
    "        Us_U = s_C1 / (gp1 * M2)\n",
    "        Ts_T = s_C1 * s_C2 / (gp1 * gp1 * M2)\n",
    "        Ms = np.sqrt(s_C1/s_C2)\n",
    "        alpha = 1.0 / (alpha_o * Mach + 1.0 - alpha_o)\n",
    "        C1C1 = 0.9 - Co * np.power(1.0 + gm1 * gm1 * 0.25 / gamma, gamma / gm1)\n",
    "        C1C2 = gm1 / alpha_o / gp1\n",
    "        C1 = C1C1 / (1 - C1C2 / Mach)\n",
    "                \n",
    "    Kn = Mach / Re_d * np.sqrt(gamma * np.pi / 2.0)\n",
    "    Cc = 1.0 + Kn*(2.514 + 0.8*np.exp(-0.55/Kn))\n",
    "    Wr =pow(Mach, 2 * omega) / Re_d\n",
    "    WrT = Wr * np.power(1.0 + 1.0 / Ts_T, omega)\n",
    "    Mpow_TOMO = np.power(Mach, 2 * omega - 1)\n",
    "    Br = WrT * (Mpow_TOMO + 1) / Mpow_TOMO\n",
    "    fKnWr_inv = Cc * (1 + alpha_hoc * WrT)\n",
    "    fKnWr = 1 / fKnWr_inv\n",
    "\n",
    "    s = np.sqrt(gamma * 0.5) * Mach\n",
    "    s2 = s * s\n",
    "    s3 = s2 * s\n",
    "    s4 = s2 * s2\n",
    "    Cd_FM = (1.0 + 2.0*s2)*np.exp(-s2) / s3 * np.sqrt(np.pi)\n",
    "    Cd_FM += (4.0*s4+4.0*s2-1.0)*scipy.special.erf(s)/(2*s4)\n",
    "    Cd_FM +=  2.0/(3.0*s)*np.sqrt(np.pi*T_d/T_g)\n",
    "\n",
    "    Theta = np.power(1.0 + gm1 * Ms * Ms / 2.0, gamma / gm1)\n",
    "    Re_tilde = Re_d * np.power(1.0 / (alpha * alpha * Ts_T), omega) * np.power(Theta, gp1/(2.0*gamma) - gm1 * omega/gamma)\n",
    "    C2 = 1 + delta_o / np.sqrt(Re_tilde)\n",
    "    Cdc = C1 * (1 - alpha * Us_U) + Co * Theta * C2 * C2\n",
    "\n",
    "    ita = 1.8\n",
    "    Brita = np.power(Br, ita)\n",
    "    C_D_singh = Cd_FM * Brita / (1.0 + Brita) + Cdc * fKnWr / (1.0 + Brita)\n",
    "\n",
    "    return C_D_singh"
   ]
  },
  {
   "attachments": {},
   "cell_type": "markdown",
   "metadata": {},
   "source": [
    "## Stokes-Millikan\n",
    "Inputs for this function are: **Mach number**, **Reynolds number**, **Fluid temperature**  \n",
    "Return is **Drag coefficient**  \n",
    "  \n",
    "*Notes*  \n",
    "* Fluid is only air\n",
    "* $Re<0.1$\n",
    "\n",
    "### Equation\n",
    "$$\n",
    "\\begin{gather*}\n",
    "C_{D}=\\frac{24}{CcRe}\\\\\n",
    "Cc=1+Kn\\left[2.514+0.8\\exp{\\frac{-0.55}{Kn}}\\right]\\\\\n",
    "Kn=\\frac{M}{Re}\\sqrt{\\frac{\\gamma \\pi}{2}}\n",
    "\\end{gather*}\n",
    "$$"
   ]
  },
  {
   "cell_type": "code",
   "execution_count": 4,
   "metadata": {},
   "outputs": [],
   "source": [
    "def SMDrag(Mach, Re_d):\n",
    "    Kn = Mach / Re_d * np.sqrt(gamma * np.pi / 2.0)\n",
    "    Cc = 1.0 + Kn*(2.514 + 0.8*np.exp(-0.55/Kn))\n",
    "    C_D = 24.0 / Cc / Re_d\n",
    "\n",
    "    return C_D"
   ]
  },
  {
   "attachments": {},
   "cell_type": "markdown",
   "metadata": {},
   "source": [
    "## Code varidation\n",
    "See Figure 3(a) in https://arxiv.org/pdf/2012.04813.pdf for comparison"
   ]
  },
  {
   "cell_type": "code",
   "execution_count": 5,
   "metadata": {},
   "outputs": [
    {
     "data": {
      "image/png": "[encoded data removed]",
      "text/plain": [
       "<Figure size 500x500 with 1 Axes>"
      ]
     },
     "metadata": {},
     "output_type": "display_data"
    }
   ],
   "source": [
    "fig, axs = plt.subplots(1,1,figsize=(5,5))\n",
    "axNormal(axs)\n",
    "\n",
    "colors=[\"red\", \"b\", \"black\"]\n",
    "Res = [200, 1000, 5000]\n",
    "for iRe in np.arange(3):\n",
    "    Re = Res[iRe]\n",
    "    Ms = np.arange(0.1,5,0.01)\n",
    "    Cds = Ms * 0\n",
    "    i = 0\n",
    "    for Mach in Ms:\n",
    "        Cds[i] = SinghDrag(Mach, Re, 300)\n",
    "        i += 1\n",
    "    axs.plot(Ms, Cds, color = colors[iRe],label=\"Re =\" + str(int(Re)))\n",
    "axs.set_xlabel(\"Mach number [-]\", size=15)\n",
    "axs.set_ylabel(\"Drag coefficient [-]\", size=15)\n",
    "\n",
    "plt.legend()\n",
    "plt.show()"
   ]
  },
  {
   "attachments": {},
   "cell_type": "markdown",
   "metadata": {},
   "source": [
    "## Brief example\n",
    "* Fluid temperature is 300 K\n",
    "* Fluid viscosity is calculated from [Sutherland's equation](https://resources.wolframcloud.com/FormulaRepository/resources/Sutherlands-Formula#:~:text=The%20dynamic%20viscosity%20equals%20the,the%20temperature%20to%20reference%20temperature.)\n",
    "* Particle diameter is 10 $\\rm{\\mu}m$\n",
    "* Fluid speed is equal to speed of sound\n",
    "* Particle speed is 0"
   ]
  },
  {
   "cell_type": "code",
   "execution_count": 6,
   "metadata": {},
   "outputs": [],
   "source": [
    "T_g = 300   # fluid temperature\n",
    "rho_g = 1.2 # fluid density\n",
    "mu_g = 1.81e-5 * np.power(T_g / 288.15, 1.5) * (288.15 + 110.4) / (T_g + 110.4) # fluid viscosity\n",
    "c_g = np.sqrt(gamma * R / MW_g * T_g) # spped of sound\n",
    "D_d = 10e-6 # particle diameter\n",
    "rho_d = 1000    # particle density\n",
    "\n",
    "u_g = c_g # fluid velocity (equal to speed of sound)\n",
    "u_d = 0   # particle velocity\n",
    "u = u_g - u_d   # relative velocity\n",
    "\n",
    "Mach = u / c_g  # Mach number\n",
    "Re_d = rho_g * u * D_d / mu_g   # Reynolds number\n",
    "\n",
    "Cd = SinghDrag(Mach, Re_d, T_g)\n",
    "F_d_singh = (np.pi / 8) * Cd * rho_g * u**2 * D_d**2"
   ]
  },
  {
   "attachments": {},
   "cell_type": "markdown",
   "metadata": {},
   "source": [
    "## Stokes number calculation with Singh's drag model"
   ]
  },
  {
   "cell_type": "code",
   "execution_count": 7,
   "metadata": {},
   "outputs": [],
   "source": [
    "def Stokes(T_g,p,D_d,rho_d,L):\n",
    "    rho_g=p/R/T_g*MW_g\n",
    "    mu_g = 1.81e-5 * np.power(T_g / 288.15, 1.5) * (288.15 + 110.4) / (T_g + 110.4) # fluid viscosity\n",
    "    c_g = np.sqrt(gamma * R / MW_g * T_g) # spped of sound\n",
    "\n",
    "    Mach = 1  # Mach number\n",
    "    Re_d = rho_g * c_g * D_d / mu_g   # Reynolds number\n",
    "\n",
    "    Cd = SinghDrag(Mach, Re_d, T_g)\n",
    "    F_d_singh = (np.pi / 8) * Cd * rho_g * c_g**2 * D_d**2\n",
    "    V=np.pi*D_d**3/6.0\n",
    "    m=V*rho_d\n",
    "    Stk=c_g*c_g*m/F_d_singh/L\n",
    "    \n",
    "    return Stk\n"
   ]
  },
  {
   "cell_type": "code",
   "execution_count": 8,
   "metadata": {},
   "outputs": [
    {
     "data": {
      "text/plain": [
       "0.7636015921347391"
      ]
     },
     "execution_count": 8,
     "metadata": {},
     "output_type": "execute_result"
    }
   ],
   "source": [
    "Stokes(300,1.013e5,0.5e-6,1000,0.18e-3)"
   ]
  },
  {
   "cell_type": "code",
   "execution_count": null,
   "metadata": {},
   "outputs": [],
   "source": []
  }
 ],
 "metadata": {
  "kernelspec": {
   "display_name": "Python 3",
   "language": "python",
   "name": "python3"
  },
  "language_info": {
   "codemirror_mode": {
    "name": "ipython",
    "version": 3
   },
   "file_extension": ".py",
   "mimetype": "text/x-python",
   "name": "python",
   "nbconvert_exporter": "python",
   "pygments_lexer": "ipython3",
   "version": "3.8.10"
  },
  "orig_nbformat": 4,
  "vscode": {
   "interpreter": {
    "hash": "e7370f93d1d0cde622a1f8e1c04877d8463912d04d973331ad4851f04de6915a"
   }
  }
 },
 "nbformat": 4,
 "nbformat_minor": 2
}
